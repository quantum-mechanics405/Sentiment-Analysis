{
  "nbformat": 4,
  "nbformat_minor": 0,
  "metadata": {
    "colab": {
      "provenance": []
    },
    "kernelspec": {
      "name": "python3",
      "display_name": "Python 3"
    },
    "language_info": {
      "name": "python"
    }
  },
  "cells": [
    {
      "cell_type": "markdown",
      "source": [
        "#Movie Review"
      ],
      "metadata": {
        "id": "mOHz9wgLqdmS"
      }
    },
    {
      "cell_type": "markdown",
      "source": [
        "Using the Pretrained Model for Sentiment analysis"
      ],
      "metadata": {
        "id": "CTZMb27wrlpe"
      }
    },
    {
      "cell_type": "code",
      "source": [
        "import torch\n",
        "from transformers import pipeline\n",
        "\n",
        "# Load the sentiment analysis pipeline with a pre-trained model\n",
        "sentiment_pipeline = pipeline(\"sentiment-analysis\")\n",
        "\n",
        "\n"
      ],
      "metadata": {
        "colab": {
          "base_uri": "https://localhost:8080/"
        },
        "id": "wOZyBFmAqdKR",
        "outputId": "234beb1a-7cc4-4088-c949-2270175c3233"
      },
      "execution_count": 15,
      "outputs": [
        {
          "output_type": "stream",
          "name": "stderr",
          "text": [
            "No model was supplied, defaulted to distilbert/distilbert-base-uncased-finetuned-sst-2-english and revision af0f99b (https://huggingface.co/distilbert/distilbert-base-uncased-finetuned-sst-2-english).\n",
            "Using a pipeline without specifying a model name and revision in production is not recommended.\n"
          ]
        }
      ]
    },
    {
      "cell_type": "code",
      "source": [
        "# Sample movie reviews\n",
        "reviews = [\"the movie was fantastic, with some light issues\"]\n",
        "\n",
        "# Perform sentiment analysis\n",
        "results = sentiment_pipeline(reviews)\n",
        "\n",
        "# Print the results\n",
        "for review, result in zip(reviews, results):\n",
        "    print(f\"Review: {review}\\nSentiment: {result['label']}, Score: {result['score']:.4f}\\n\")"
      ],
      "metadata": {
        "colab": {
          "base_uri": "https://localhost:8080/"
        },
        "id": "QYl6fiR9q2WB",
        "outputId": "6e8d7db2-f19e-4105-db7b-d36346569f9b"
      },
      "execution_count": 36,
      "outputs": [
        {
          "output_type": "stream",
          "name": "stdout",
          "text": [
            "Review: the movie was fantastic, with some light issues\n",
            "Sentiment: POSITIVE, Score: 0.9998\n",
            "\n"
          ]
        }
      ]
    },
    {
      "cell_type": "markdown",
      "source": [
        "## Finding the accuracy of the model"
      ],
      "metadata": {
        "id": "O5AQGbYcYCcj"
      }
    },
    {
      "cell_type": "code",
      "source": [
        "# Load the sentiment analysis pipeline with a pre-trained model\n",
        "from transformers import pipeline\n",
        "from datasets import load_dataset\n",
        "\n",
        "# Load the IMDb dataset\n",
        "dataset = load_dataset(\"imdb\")\n",
        "\n",
        "# Initialize the sentiment analysis pipeline\n",
        "sentiment_pipeline = pipeline(\"sentiment-analysis\", truncation=True)\n",
        "\n",
        "# Function to perform batch inference\n",
        "def batch_predict(reviews, batch_size=32):\n",
        "    predictions = []\n",
        "    for i in range(0, len(reviews), batch_size):\n",
        "        batch = reviews[i:i + batch_size]\n",
        "        predictions.extend(sentiment_pipeline(batch))\n",
        "    return predictions\n",
        "\n",
        "length = 800\n",
        "# Use only the first 1,000 reviews from the test set\n",
        "subset_reviews = dataset['test']['text'][:length]\n",
        "subset_true_labels = dataset['test']['label'][:length]\n",
        "\n",
        "# Make predictions on the subset of the test set\n",
        "predictions = batch_predict(subset_reviews)\n",
        "\n",
        "# Extract the predicted labels\n",
        "predicted_labels = [pred['label'] for pred in predictions]\n",
        "\n",
        "# Calculate accuracy\n",
        "correct_predictions = sum(\n",
        "    1 for pred, true in zip(predicted_labels, subset_true_labels) if (pred == \"POSITIVE\" and true == 1) or (pred == \"NEGATIVE\" and true == 0)\n",
        ")\n",
        "\n",
        "accuracy = correct_predictions / len(subset_true_labels)\n",
        "print(f\"Accuracy of the model on {length} IMDb test set reviews: {100*accuracy:.2f}%\")\n"
      ],
      "metadata": {
        "colab": {
          "base_uri": "https://localhost:8080/"
        },
        "id": "FZ--gIOsNnvL",
        "outputId": "cceb88ac-59ca-4448-e53e-2a1390656dd6"
      },
      "execution_count": 40,
      "outputs": [
        {
          "output_type": "stream",
          "name": "stdout",
          "text": [
            "Accuracy of the model on 800 IMDb test set reviews: 90.62%\n"
          ]
        }
      ]
    }
  ]
}